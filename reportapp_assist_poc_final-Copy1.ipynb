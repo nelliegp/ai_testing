{
 "cells": [
  {
   "cell_type": "markdown",
   "id": "89d52c2b-d5a4-4b0d-955f-a0dd96a3a46d",
   "metadata": {},
   "source": [
    "## ReportApp Assist Agent - Proof of Concept 1.1"
   ]
  },
  {
   "cell_type": "markdown",
   "id": "bc7fd1c0-47ad-496e-8a77-a41eb01422c5",
   "metadata": {},
   "source": [
    "### Step One: Load Packages\n",
    "Before we can get started, we must load all of our packages. The main libraries include:\n",
    "1. LangGraph\n",
    "2. Langchain AWS\n",
    "3. Langchain Experimental\n",
    "4. Typing \n",
    "5. Pypdfium2\n",
    "6. Boto3\n",
    "7. Pandas"
   ]
  },
  {
   "cell_type": "code",
   "execution_count": null,
   "id": "d836ddba-e13c-408b-b27a-f722ab95e726",
   "metadata": {},
   "outputs": [],
   "source": [
    "#!pip install pypdfium2 langgraph langchain langchain-experimental langchain-core langchain-community httpx langchain-aws"
   ]
  },
  {
   "cell_type": "code",
   "execution_count": 12,
   "id": "23195b06-d8b9-423c-b0ba-922582523bae",
   "metadata": {},
   "outputs": [],
   "source": [
    "import boto3\n",
    "import logging\n",
    "import base64\n",
    "import pypdfium2 as pdfium\n",
    "import tempfile\n",
    "import json\n",
    "import os\n",
    "import pandas as pd\n",
    "from typing import Annotated, Union, List, Dict\n",
    "from typing_extensions import TypedDict\n",
    "\n",
    "from langchain.pydantic_v1 import BaseModel, Field\n",
    "from langgraph.graph import StateGraph\n",
    "from langgraph.graph.message import add_messages\n",
    "from langgraph.prebuilt import ToolNode, tools_condition\n",
    "from langgraph.checkpoint.sqlite import SqliteSaver\n",
    "from langchain.tools import StructuredTool, tool\n",
    "from langchain.tools.retriever import create_retriever_tool\n",
    "from langchain_core.prompts import ChatPromptTemplate, MessagesPlaceholder\n",
    "from langchain_core.messages import BaseMessage\n",
    "from langchain_core.runnables import RunnablePassthrough, RunnableParallel\n",
    "from langchain_core.output_parsers import StrOutputParser\n",
    "from langchain_core.runnables.history import RunnableWithMessageHistory\n",
    "from langchain_aws import ChatBedrock\n",
    "from langchain_aws import AmazonKnowledgeBasesRetriever\n",
    "from langchain.agents import Tool\n",
    "from langchain_experimental.utilities import PythonREPL"
   ]
  },
  {
   "cell_type": "markdown",
   "id": "88b490f1-e437-4e45-a976-6d598965f51b",
   "metadata": {},
   "source": [
    "### Step Two: Load Model\n",
    "Next, we will load our large language model using AWS bedrock. For this project, we are using Claude Sonnet 3.5. "
   ]
  },
  {
   "cell_type": "code",
   "execution_count": 13,
   "id": "8b775311-7d13-4a53-a6d2-f6cd39b1d50f",
   "metadata": {},
   "outputs": [],
   "source": [
    "modelID = \"anthropic.claude-3-5-sonnet-20240620-v1:0\"\n",
    "bedrock_client = boto3.client(\n",
    "    service_name = \"bedrock-runtime\",\n",
    "    region_name = \"us-east-1\"\n",
    ")\n",
    "\n",
    "# loading claude 3 haiku using bedrock client \n",
    "llm = ChatBedrock(\n",
    "    model_id=modelID,\n",
    "    client=bedrock_client\n",
    ")"
   ]
  },
  {
   "cell_type": "markdown",
   "id": "7d1d01ed-cafc-4720-b373-d2dda0a67c1f",
   "metadata": {},
   "source": [
    "### Step Three: Create Database to Store Memory\n",
    "To ensure we can store the conversations being held and create persistant conversation, we created a SQlite Saver which stores our conversation in memory. To move into production, we would connect to our own database and store the conversations there. "
   ]
  },
  {
   "cell_type": "code",
   "execution_count": 14,
   "id": "b64b5fc3-3604-4fc6-8365-c1efe3d2245c",
   "metadata": {},
   "outputs": [],
   "source": [
    "memory = SqliteSaver.from_conn_string(':memory:')\n",
    "# here, we are creating a sqlite server to store our conversatoins \n",
    "# it saves it all in memory -- if we productionalized this, we would change this to connect to our down DB or use another checkpointer class "
   ]
  },
  {
   "cell_type": "markdown",
   "id": "e1d41459-400f-4d1f-8e48-5160c8ac123f",
   "metadata": {},
   "source": [
    "### Step Four: Define and Load Tools\n",
    "To handle all of the tasks we need to carry out, we must use an agent that has access to tools. Agentic frameworks enable us to carry out complex tasks that require more than just text generation. \n",
    "\n",
    "For our agent, there are a few tools available. \n",
    "1. Image Analysis Tool: this tool takes in a PDF of a report and helps the user navigate to a specific view within the report \n",
    "2. Search Report App Meta Data Tool: this tool uses RAG to retrieve a recommended report based on the reports key words and description\n",
    "3. Identify File Paths Tool: this tool uses RAG to retrieve the file paths (CSV or PDF) of a report in question \n",
    "    - this will need to be updated for production purposes, as it is not efficient at scale, but for our proof of concept works \n",
    "4. Get Data Tool: Reads in CSV data and stores as pandas dataframe \n",
    "5. Python Repl Tool: Analyzes and generates insights using python "
   ]
  },
  {
   "cell_type": "code",
   "execution_count": 15,
   "id": "7732b626-a3dd-48f0-ad3e-6ce57d2fcd3a",
   "metadata": {},
   "outputs": [],
   "source": [
    "### Image Analysis Tool \n",
    "def image_analysis_tool(pdf_path):\n",
    "    runtime = boto3.client(\"bedrock-runtime\",region_name=\"us-east-1\")\n",
    "    MODEL = \"anthropic.claude-3-haiku-20240307-v1:0\"\n",
    "    pdf = pdfium.PdfDocument(pdf_path)\n",
    "    n_pages = len(pdf)\n",
    "    # create temporary directory to store images in \n",
    "    temp = tempfile.mkdtemp()\n",
    "    for page_number in range(n_pages):\n",
    "        page = pdf.get_page(page_number)\n",
    "        pil_image = page.render(scale=300/72).to_pil()\n",
    "        pil_image.save(f\"{temp}/image_{page_number+1}.png\")\n",
    "        # list all images\n",
    "    images = os.listdir(temp)\n",
    "    # store image paths in list to iterate over \n",
    "    image_path = []\n",
    "    for i in images:\n",
    "        dir_path = os.path.join(temp + '/' + i)\n",
    "        image_path.append(dir_path)\n",
    "    print(image_path)\n",
    "    base64_encoded_pngs = []\n",
    "    for image in image_path:\n",
    "        with open(image, \"rb\") as image_file:\n",
    "            binary_data = image_file.read()\n",
    "            base_64_encoded_data = base64.b64encode(binary_data)\n",
    "            base64_encoded = base_64_encoded_data.decode('utf-8')\n",
    "            base64_encoded_pngs.append(base64_encoded)\n",
    "    body = json.dumps({ \n",
    "        \"anthropic_version\": \"bedrock-2023-05-31\",\n",
    "        \"max_tokens\": 17000,\n",
    "        \"messages\":[\n",
    "        {\n",
    "            \"role\": \"user\",\n",
    "            \"content\": [\n",
    "                *[{\"type\": \"image\", \"source\": {\"type\": \"base64\", \"media_type\": \"image/jpeg\", \"data\": base64_encoded_png}} for base64_encoded_png in base64_encoded_pngs],\n",
    "                {\n",
    "                    \"type\": \"text\", \n",
    "                    \"text\": \"\"\"\n",
    "                    You are an intelligent business analyst that helps user navigate within reports. You will be given a images of a report and will teach the user how to get to a specific view within the report. \n",
    "                    To do this, you will first locate what page the visual or table of interest is in, then you will locate the specific visual or table, and lastly, you will list out in bullet points the steps the users must take to get to those tables or visuals. \n",
    "                    Remember, you should not make up information. If you do not have an answer or are unsure of your answer, simply tell the user to either rephrase their question or that you cannot answer right now.\n",
    "                    \"\"\"\n",
    "\n",
    "                }\n",
    "            ]\n",
    "        }\n",
    "        ]\n",
    "    })\n",
    "\n",
    "    # Invoke the model\\n\",\n",
    "    model_response = runtime.invoke_model(\n",
    "        modelId=MODEL,\n",
    "        contentType=\"application/json\",\n",
    "        accept=\"application/json\",\n",
    "        body=body\n",
    "    )\n",
    "    response_body = json.loads(model_response.get(\"body\").read())\n",
    "    response = response_body.get(\"content\")\n",
    "    # convert response to pd dataframe to interact with \\n\",\n",
    "    res = pd.DataFrame.from_dict(response)\n",
    "    response_format = res['text'].values[0]\n",
    "    # identify start and end tags \\n\",\n",
    "    start = response_format.find('>') + 1\n",
    "    end = response_format.find('</response>')\n",
    "    # return only the formatted response\\n\",\n",
    "    return response_format[start:end]\n",
    "\n",
    "report_nav_tool = StructuredTool.from_function(\n",
    "    func = image_analysis_tool,\n",
    "    name = \"image_analysis_tool\",\n",
    "    description = \"Useful when you need to describe how to navigate inside of a report. To use this tool, you must provide the PDF path to the report as a string, which you will get from the identify_file_paths_tool.\"\n",
    ")\n",
    "\n",
    "## RETRIEVER TOOL\n",
    "kb_retriever = AmazonKnowledgeBasesRetriever(\n",
    "    knowledge_base_id=\"TROS2O3ULZ\", # 👈 Set your Knowledge base ID\n",
    "    retrieval_config={\"vectorSearchConfiguration\": {\"numberOfResults\": 2}},\n",
    ")\n",
    "\n",
    "retriever_tool = create_retriever_tool(\n",
    "    kb_retriever,\n",
    "    \"search_report_app_meta_data\",\n",
    "    \"Searches and returns recommended reports based on desired information. Given the user query, provide the name of the report most similiar to their request. Then, pass it to the identify_file_paths tool\"\n",
    ")\n",
    "\n",
    "## RETRIEVER TOOL - File Locations\n",
    "kb_retriever_file_locations = AmazonKnowledgeBasesRetriever(\n",
    "    knowledge_base_id=\"9EQGP2JNAK\", # 👈 Set your Knowledge base ID\n",
    "    retrieval_config={\"vectorSearchConfiguration\": {\"numberOfResults\": 2}},\n",
    ")\n",
    "\n",
    "retriever_tool_file_paths = create_retriever_tool(\n",
    "    kb_retriever_file_locations,\n",
    "    \"identify_file_paths\",\n",
    "    \"Retrieves the PDF or CSV file path for a given report. Output of this tool is sent to the image_analysis_tool or the get_data tool\"\n",
    ")\n",
    "\n",
    "def get_data(csv_path):\n",
    "    df = pd.read_csv(csv_path)\n",
    "    return df\n",
    "\n",
    "get_data = StructuredTool.from_function(\n",
    "    func = get_data,\n",
    "    name = \"get_data\",\n",
    "    description = \"Use this tool when you are asked to generate insights about a report using the underlying data. You will get the csv path from the identify_file_paths tool and then send the data over to the python_repl tool.\"\n",
    ")\n",
    "\n",
    "python_repl = PythonREPL()\n",
    "\n",
    "repl_tool = Tool(\n",
    "    name=\"python_repl\",\n",
    "    description=\"A Python shell. Use this to execute python commands. Input should be a valid python command. If you want to see the output of a value, you should print it out with `print(...)`.\",\n",
    "    func=python_repl.run,\n",
    ")\n",
    "\n",
    "tools = [retriever_tool_file_paths, repl_tool, get_data, report_nav_tool, retriever_tool] \n",
    "tool_node = ToolNode(tools)\n",
    "llm_with_tools = llm.bind_tools(tools)"
   ]
  },
  {
   "cell_type": "markdown",
   "id": "11d595b3-7861-4bc5-8293-94352418db60",
   "metadata": {},
   "source": [
    "### Step Five: Construct Graph"
   ]
  },
  {
   "cell_type": "markdown",
   "id": "fe0f006b-bbef-4679-b271-6e3000ecc06e",
   "metadata": {
    "jp-MarkdownHeadingCollapsed": true,
    "tags": []
   },
   "source": [
    "\"LangGraph is a library within the LangChain ecosystem that provides a framework for defining, coordinating, and executing multiple LLM agents (or chains) in a structured and efficient manner\"\n",
    "\n",
    "In our project, we use langraph to coordinate our Agent and its tools to perform functions to satisfy the question(s) from the user.\n",
    "\n",
    "Here we:\n",
    "- Define State: list of messages with a key to track the most recent sender\n",
    "- Define Agent Nodes: define the node for the Agent\n",
    "- Define Tool Node: node that runs the tools\n",
    "- Define Edge Logic: logic that is needed to decide what to do based on the results of the agents\n",
    "\n",
    "Sources:\n",
    "- https://medium.com/@cplog/introduction-to-langgraph-a-beginners-guide-14f9be027141\n",
    "- https://github.com/langchain-ai/langgraph/blob/main/examples/multi_agent/multi-agent-collaboration.ipynb\n",
    "\n"
   ]
  },
  {
   "cell_type": "code",
   "execution_count": 16,
   "id": "e3fda59c-fe14-46ec-b92f-b9755ae1b182",
   "metadata": {},
   "outputs": [],
   "source": [
    "class State(TypedDict):\n",
    "    messages: Annotated[list, add_messages]\n",
    "\n",
    "graph_builder = StateGraph(State)\n",
    "\n",
    "def reportapp_assist(state: State):\n",
    "    return {\"messages\": [llm_with_tools.invoke(state[\"messages\"])]}\n",
    "\n",
    "\n",
    "graph_builder.add_node(\"reportapp_assist\", reportapp_assist)\n",
    "\n",
    "tool_node = ToolNode(tools=[retriever_tool_file_paths, repl_tool, get_data, report_nav_tool, retriever_tool] )\n",
    "graph_builder.add_node(\"tools\", tool_node)\n",
    "\n",
    "graph_builder.add_conditional_edges(\n",
    "    \"reportapp_assist\",\n",
    "    tools_condition,\n",
    ")\n",
    "\n",
    "# Any time a tool is called, we return to the chatbot to decide the next step\n",
    "graph_builder.add_edge(\"tools\", \"reportapp_assist\")\n",
    "graph_builder.set_entry_point(\"reportapp_assist\")\n",
    "\n",
    "# to ensure we add persistent checkpointing, we will add our sqlite db which stores the session \n",
    "graph = graph_builder.compile(checkpointer=memory)"
   ]
  },
  {
   "cell_type": "code",
   "execution_count": 17,
   "id": "a1b397f5-809e-4540-838e-809de292257a",
   "metadata": {},
   "outputs": [
    {
     "data": {
      "image/jpeg": "[encoded data removed]",
      "text/plain": [
       "<IPython.core.display.Image object>"
      ]
     },
     "metadata": {},
     "output_type": "display_data"
    }
   ],
   "source": [
    "from IPython.display import Image, display\n",
    "\n",
    "try:\n",
    "    display(Image(graph.get_graph().draw_mermaid_png()))\n",
    "except:\n",
    "    # This requires some extra dependencies and is optional\n",
    "    pass"
   ]
  },
  {
   "cell_type": "markdown",
   "id": "381dce30-c524-4010-94cd-53cde0ff1222",
   "metadata": {},
   "source": [
    "### Step Six: Set up Config for Thread Persistence"
   ]
  },
  {
   "cell_type": "code",
   "execution_count": 18,
   "id": "6de11429-23a9-4c3e-b650-67694102decd",
   "metadata": {},
   "outputs": [],
   "source": [
    "# now that we have added in persistence, we need t pick a thread to use as the key for the conversation\n",
    "config = {'configurable': {'thread_id':'2'}}"
   ]
  },
  {
   "cell_type": "markdown",
   "id": "621e8cce-d726-4dc1-8cc1-75d9ca658baf",
   "metadata": {},
   "source": [
    "## Step Seven: Test Output "
   ]
  },
  {
   "cell_type": "markdown",
   "id": "241452c8-153d-46b8-9233-fceb8532ad5d",
   "metadata": {},
   "source": [
    "With the graph we created, we can invoke output."
   ]
  },
  {
   "cell_type": "code",
   "execution_count": 19,
   "id": "c482abf1-2bb2-49dd-a71d-3aedb3fa9add",
   "metadata": {},
   "outputs": [
    {
     "name": "stdout",
     "output_type": "stream",
     "text": [
      "================================\u001b[1m Human Message \u001b[0m=================================\n",
      "\n",
      "Hi! My name is Steve. What can you help me do?\n",
      "==================================\u001b[1m Ai Message \u001b[0m==================================\n",
      "\n",
      "Hello Steve! It's nice to meet you. I'm an AI assistant designed to help you with various tasks related to reports and data analysis. Here are some ways I can assist you:\n",
      "\n",
      "1. Find relevant reports: I can search for and recommend reports based on specific topics or information you're interested in.\n",
      "\n",
      "2. Analyze report contents: I can help you navigate through PDF reports and describe their contents.\n",
      "\n",
      "3. Access and analyze data: If you need insights from data in CSV files, I can help retrieve and analyze that information.\n",
      "\n",
      "4. Answer questions: I can provide information and insights based on the available reports and data.\n",
      "\n",
      "5. Perform calculations: If you need any data-related calculations or manipulations, I can use Python to help with that.\n",
      "\n",
      "Is there a specific task or type of information you're looking for? Feel free to ask about any reports, data, or analysis you need help with, and I'll do my best to assist you!\n"
     ]
    }
   ],
   "source": [
    "#user_input = \"Can you please tell me what reports have information about CPI? Then, can you generate insights from that report?\"\n",
    "user_input = \"Hi! My name is Steve. What can you help me do?\"\n",
    "\n",
    "# The config is the **second positional argument** to stream() or invoke()!\n",
    "## it cannot be nested within the graph inputs \n",
    "events = graph.stream(\n",
    "    {\"messages\": [(\"user\", user_input)]}, config, stream_mode=\"values\"\n",
    ")\n",
    "\n",
    "for event in events:\n",
    "    event[\"messages\"][-1].pretty_print()"
   ]
  },
  {
   "cell_type": "code",
   "execution_count": 10,
   "id": "5a63359e-ff11-4487-9d7a-87bfd8733a2f",
   "metadata": {},
   "outputs": [
    {
     "name": "stdout",
     "output_type": "stream",
     "text": [
      "================================\u001b[1m Human Message \u001b[0m=================================\n",
      "\n",
      "Can you please tell me what reports have information about CPI? Then, can help me navigate to that report?\n",
      "==================================\u001b[1m Ai Message \u001b[0m==================================\n",
      "Tool Calls:\n",
      "  search_report_app_meta_data (toolu_bdrk_01AnX6i5E46BeoLAvr3bcYi2)\n",
      " Call ID: toolu_bdrk_01AnX6i5E46BeoLAvr3bcYi2\n",
      "  Args:\n",
      "    query: CPI Consumer Price Index report\n",
      "=================================\u001b[1m Tool Message \u001b[0m=================================\n",
      "Name: search_report_app_meta_data\n",
      "\n",
      ",Report,Description,Keywords,Source_Data,Data_Table 0,Economic Indicators - Housing Market,\" This report provides a comprehensive overview of the housing market, tracking key indicators such as fixed-rate mortgage rates, existing home sales, new single-family home sales, and macroeconomic factors like the S&P CoreLogic Case-Shiller U.S. National Home Price Index, Consumer Price Index (CPI), and unemployment rate. The data is presented in a combination of line graphs and bar charts, enabling users to monitor trends and patterns across various time periods.\",\"Housing market, mortgage rates, home sales, price indices, inflation, unemployment, macroeconomic indicators\",Federal Reserve of St. Louis,econ_ind 1,Primary Mortgage Market Survey,\"This report provides a comprehensive overview of current mortgage market conditions and the federal funds rate. It leverages data from the Freddie Mac Primary Mortgage Market Survey and the NY Federal Reserve Bank to track trends in 15-year fixed-rate mortgages, 30-year fixed-rate mortgages, the year-over-year change in these rates, and the effective federal funds rate and volume. This report enables monitoring of key economic indicators impacting the housing market and monetary policy over a projected time period.\n",
      "\n",
      "This report enables monitoring of key economic indicators impacting the housing market and monetary policy over a projected time period. With this data, users can potentially analyze the relationship between mortgage rates, the federal funds rate, and assess the overall state of the mortgage and lending markets.\",\"Primary Mortgage Market Survey, 15-Year Fixed Rate, 30-Year Fixed Rate, Effective Federal Funds Rate, Effective Federal Funds Volume, Monthly Average over 52 Weeks, Projected Rate Changes\",\"Freddie Mac Primary Mortgage Market Survey, NY Federal Reserve Bank\",pmms 2,Street Easy Rental Dashboard,\"This report visualizes real estate market data, including the total rental inventory over time, median asking rent trends, and a rent index analyzing market changes. It can provide insights into housing market conditions and fluctuations based on the available data.\",\"Total rental inventory, median asking rent, rent index, real estate, housing data, market trends\",Street Easy,street_easy\n",
      "==================================\u001b[1m Ai Message \u001b[0m==================================\n",
      "Tool Calls:\n",
      "  identify_file_paths (toolu_bdrk_014ys9ETA8Fn7QbjXS4kfrLe)\n",
      " Call ID: toolu_bdrk_014ys9ETA8Fn7QbjXS4kfrLe\n",
      "  Args:\n",
      "    query: Economic Indicators - Housing Market\n",
      "=================================\u001b[1m Tool Message \u001b[0m=================================\n",
      "Name: identify_file_paths\n",
      "\n",
      ",report,pdf_path,csv_path 0,Economic Indicators - Housing Market,PDF/Economic Indicators - Housing Market.pdf,data/economic_indicators.csv 1,Primary Mortgage Market Survey,PDF/Primary Mortgage Market Survey.pdf,data/freddie_pmms.csv 2,Street Easy Rental Dashboard,PDF/Street Easy Rental Dashboard.pdf,data/rentalInventory.csv\n",
      "==================================\u001b[1m Ai Message \u001b[0m==================================\n",
      "Tool Calls:\n",
      "  image_analysis_tool (toolu_bdrk_013qLBB2CZEbv7DxEZwPWUJL)\n",
      " Call ID: toolu_bdrk_013qLBB2CZEbv7DxEZwPWUJL\n",
      "  Args:\n",
      "    pdf_path: PDF/Economic Indicators - Housing Market.pdf\n",
      "['/tmp/tmp_22clo8g/image_1.png', '/tmp/tmp_22clo8g/image_2.png']\n",
      "=================================\u001b[1m Tool Message \u001b[0m=================================\n",
      "Name: image_analysis_tool\n",
      "\n",
      "This report appears to be a comprehensive overview of the U.S. housing market, providing insights into mortgage rates, home sales, and key macroeconomic indicators. Let me guide you through the steps to locate the specific information you're interested in.\n",
      "\n",
      "1. Locating the page/section:\n",
      "   - The report is divided into two main sections: \"Housing at a Glance\" and \"Macroeconomic Indicators\".\n",
      "\n",
      "2. Identifying the visual/table of interest:\n",
      "   - The \"Fixed-Rate Mortgage Rates (Monthly)\" chart is located in the \"Housing at a Glance\" section.\n",
      "   - The \"YoY % Change in S&P CoreLogic Case-Shiller U.S. National Home Price Index\", \"YoY % Change in CPI\", and \"Unemployment Rate\" charts are located in the \"Macroeconomic Indicators\" section.\n",
      "\n",
      "3. Steps to navigate to the specific information:\n",
      "   - To view the \"Fixed-Rate Mortgage Rates (Monthly)\" chart:\n",
      "     1. Locate the \"Housing at a Glance\" section.\n",
      "     2. The \"Fixed-Rate Mortgage Rates (Monthly)\" chart is the first visual in this section.\n",
      "\n",
      "   - To view the \"YoY % Change in S&P CoreLogic Case-Shiller U.S. National Home Price Index\", \"YoY % Change in CPI\", and \"Unemployment Rate\" charts:\n",
      "     1. Locate the \"Macroeconomic Indicators\" section.\n",
      "     2. The \"YoY % Change in S&P CoreLogic Case-Shiller U.S. National Home Price Index\" chart is the first visual in this section.\n",
      "     3. Scroll down to find the \"YoY % Change in CPI\" and \"Unemployment Rate\" charts.\n",
      "\n",
      "Please let me know if you have any other questions or need further assistance navigating this report\n",
      "==================================\u001b[1m Ai Message \u001b[0m==================================\n",
      "\n",
      "Certainly, Steve. I've found a report that contains information about CPI (Consumer Price Index) and can help you navigate to the relevant sections. The report is called \"Economic Indicators - Housing Market.\"\n",
      "\n",
      "This report provides a comprehensive overview of the housing market and includes key macroeconomic indicators, including the Consumer Price Index (CPI). Let me guide you through the report:\n",
      "\n",
      "1. The report is divided into two main sections: \"Housing at a Glance\" and \"Macroeconomic Indicators.\"\n",
      "\n",
      "2. The CPI information is located in the \"Macroeconomic Indicators\" section.\n",
      "\n",
      "3. To navigate to the CPI information:\n",
      "   a. First, locate the \"Macroeconomic Indicators\" section in the report.\n",
      "   b. Scroll down within this section until you find the \"YoY % Change in CPI\" chart.\n",
      "\n",
      "The \"YoY % Change in CPI\" chart shows the year-over-year percentage change in the Consumer Price Index, which is a key measure of inflation. This chart is presented alongside other important economic indicators such as the S&P CoreLogic Case-Shiller U.S. National Home Price Index and the Unemployment Rate.\n",
      "\n",
      "Is there any specific aspect of the CPI data you'd like to focus on, or would you like me to provide more details about what's shown in the chart? I can also help you interpret the data or compare it with other indicators in the report if you're interested.\n"
     ]
    }
   ],
   "source": [
    "#user_input = \"Can you please tell me what reports have information about CPI? Then, can you generate insights from that report?\"\n",
    "user_input = \"Can you please tell me what reports have information about CPI? Then, can help me navigate to that report?\"\n",
    "\n",
    "# The config is the **second positional argument** to stream() or invoke()!\n",
    "## it cannot be nested within the graph inputs \n",
    "events = graph.stream(\n",
    "    {\"messages\": [(\"user\", user_input)]}, config, stream_mode=\"values\"\n",
    ")\n",
    "\n",
    "for event in events:\n",
    "    event[\"messages\"][-1].pretty_print()"
   ]
  },
  {
   "cell_type": "code",
   "execution_count": 21,
   "id": "25aefa62-e7f6-42c7-988e-af582a559951",
   "metadata": {},
   "outputs": [
    {
     "name": "stdout",
     "output_type": "stream",
     "text": [
      "================================\u001b[1m Human Message \u001b[0m=================================\n",
      "\n",
      "Can you please tell me what reports have information about Primary Mortgage Rates in 2023? Then, can help me navigate to that report?\n",
      "==================================\u001b[1m Ai Message \u001b[0m==================================\n",
      "Tool Calls:\n",
      "  search_report_app_meta_data (toolu_bdrk_01MbjoH8QMV7aARjchYpHsJn)\n",
      " Call ID: toolu_bdrk_01MbjoH8QMV7aARjchYpHsJn\n",
      "  Args:\n",
      "    query: Primary Mortgage Rates in 2023\n",
      "=================================\u001b[1m Tool Message \u001b[0m=================================\n",
      "Name: search_report_app_meta_data\n",
      "\n",
      "This report enables monitoring of key economic indicators impacting the housing market and monetary policy over a projected time period. With this data, users can potentially analyze the relationship between mortgage rates, the federal funds rate, and assess the overall state of the mortgage and lending markets.\",\"Primary Mortgage Market Survey, 15-Year Fixed Rate, 30-Year Fixed Rate, Effective Federal Funds Rate, Effective Federal Funds Volume, Monthly Average over 52 Weeks, Projected Rate Changes\",\"Freddie Mac Primary Mortgage Market Survey, NY Federal Reserve Bank\",pmms 2,Street Easy Rental Dashboard,\"This report visualizes real estate market data, including the total rental inventory over time, median asking rent trends, and a rent index analyzing market changes. It can provide insights into housing market conditions and fluctuations based on the available data.\",\"Total rental inventory, median asking rent, rent index, real estate, housing data, market trends\",Street Easy,street_easy\n",
      "\n",
      ",Report,Description,Keywords,Source_Data,Data_Table 0,Economic Indicators - Housing Market,\" This report provides a comprehensive overview of the housing market, tracking key indicators such as fixed-rate mortgage rates, existing home sales, new single-family home sales, and macroeconomic factors like the S&P CoreLogic Case-Shiller U.S. National Home Price Index, Consumer Price Index (CPI), and unemployment rate. The data is presented in a combination of line graphs and bar charts, enabling users to monitor trends and patterns across various time periods.\",\"Housing market, mortgage rates, home sales, price indices, inflation, unemployment, macroeconomic indicators\",Federal Reserve of St. Louis,econ_ind 1,Primary Mortgage Market Survey,\"This report provides a comprehensive overview of current mortgage market conditions and the federal funds rate. It leverages data from the Freddie Mac Primary Mortgage Market Survey and the NY Federal Reserve Bank to track trends in 15-year fixed-rate mortgages, 30-year fixed-rate mortgages, the year-over-year change in these rates, and the effective federal funds rate and volume. This report enables monitoring of key economic indicators impacting the housing market and monetary policy over a projected time period.\n",
      "==================================\u001b[1m Ai Message \u001b[0m==================================\n",
      "Tool Calls:\n",
      "  identify_file_paths (toolu_bdrk_01CCTJPyXyisAHRQM94U7Bcw)\n",
      " Call ID: toolu_bdrk_01CCTJPyXyisAHRQM94U7Bcw\n",
      "  Args:\n",
      "    query: Primary Mortgage Market Survey\n",
      "=================================\u001b[1m Tool Message \u001b[0m=================================\n",
      "Name: identify_file_paths\n",
      "\n",
      ",report,pdf_path,csv_path 0,Economic Indicators - Housing Market,PDF/Economic Indicators - Housing Market.pdf,data/economic_indicators.csv 1,Primary Mortgage Market Survey,PDF/Primary Mortgage Market Survey.pdf,data/freddie_pmms.csv 2,Street Easy Rental Dashboard,PDF/Street Easy Rental Dashboard.pdf,data/rentalInventory.csv\n",
      "==================================\u001b[1m Ai Message \u001b[0m==================================\n",
      "Tool Calls:\n",
      "  image_analysis_tool (toolu_bdrk_01Q9pBFWdyYLXr2y4mC7rkwC)\n",
      " Call ID: toolu_bdrk_01Q9pBFWdyYLXr2y4mC7rkwC\n",
      "  Args:\n",
      "    pdf_path: PDF/Primary Mortgage Market Survey.pdf\n",
      "['/tmp/tmpye1agnb4/image_1.png', '/tmp/tmpye1agnb4/image_2.png', '/tmp/tmpye1agnb4/image_3.png']\n",
      "=================================\u001b[1m Tool Message \u001b[0m=================================\n",
      "Name: image_analysis_tool\n",
      "\n",
      "Sure, I'd be happy to help you navigate this report. Based on the images provided, it looks like this is a Primary Mortgage Market Survey report.\n",
      "\n",
      "To get to the specific view you're interested in, let's go step-by-step:\n",
      "\n",
      "1. Locate the page/section: \n",
      "   - The first image shows the \"Primary Mortgage Market Rates\" chart, which appears to be the main focus of this report.\n",
      "   - The second image shows the \"Effective Federal Funds Rate\" and \"Effective Federal Funds Volume\" charts.\n",
      "   - The third image shows a table with \"Primary Mortgage Market Monthly Average over the last 52-weeks\".\n",
      "\n",
      "2. Locate the specific visual/table:\n",
      "   - The visual you seem most interested in is the \"Primary Mortgage Market Rates\" chart in the first image.\n",
      "\n",
      "3. Steps to access this view:\n",
      "   - Open the Primary Mortgage Market Survey report.\n",
      "   - The \"Primary Mortgage Market Rates\" chart should be visible on the first page or section of the report.\n",
      "\n",
      "Please let me know if you need any clarification or have additional questions! I'm happy to provide further assistance in navigating this report\n",
      "==================================\u001b[1m Ai Message \u001b[0m==================================\n",
      "\n",
      "Certainly, Steve! I've found the report that contains information about Primary Mortgage Rates in 2023 and can help you navigate it. The report you're looking for is called \"Primary Mortgage Market Survey.\"\n",
      "\n",
      "Let me guide you through the report:\n",
      "\n",
      "1. Open the Primary Mortgage Market Survey report.\n",
      "\n",
      "2. On the first page or section, you'll find the main chart titled \"Primary Mortgage Market Rates.\" This chart is likely to be the most relevant to your interest in Primary Mortgage Rates in 2023.\n",
      "\n",
      "3. This chart shows the trends for both 15-year and 30-year fixed-rate mortgages, which are key indicators of primary mortgage rates.\n",
      "\n",
      "4. The chart also includes year-over-year changes in these rates, which can give you a good perspective on how rates have changed since 2022.\n",
      "\n",
      "5. Further down in the report, you'll find additional relevant information:\n",
      "   - A chart showing the \"Effective Federal Funds Rate\" and \"Effective Federal Funds Volume,\" which are closely related to mortgage rates.\n",
      "   - A table presenting the \"Primary Mortgage Market Monthly Average over the last 52-weeks,\" which provides a detailed breakdown of recent mortgage rate data.\n",
      "\n",
      "This report uses data from the Freddie Mac Primary Mortgage Market Survey and the NY Federal Reserve Bank, providing a comprehensive overview of current mortgage market conditions.\n",
      "\n",
      "Is there any specific aspect of the Primary Mortgage Rates in 2023 that you'd like to focus on? I can help you interpret the data or navigate to particular sections of the report if you need more detailed information.\n"
     ]
    }
   ],
   "source": [
    "#using PPMS\n",
    "#user_input = \"Can you please tell me what reports have information about CPI? Then, can you generate insights from that report?\"\n",
    "user_input = \"Can you please tell me what reports have information about Primary Mortgage Rates in 2023? Then, can help me navigate to that report?\"\n",
    "\n",
    "# The config is the **second positional argument** to stream() or invoke()!\n",
    "## it cannot be nested within the graph inputs \n",
    "events = graph.stream(\n",
    "    {\"messages\": [(\"user\", user_input)]}, config, stream_mode=\"values\"\n",
    ")\n",
    "\n",
    "for event in events:\n",
    "    event[\"messages\"][-1].pretty_print()\n",
    "\n"
   ]
  },
  {
   "cell_type": "code",
   "execution_count": 13,
   "id": "2fc56d99-d0a7-45ee-967b-1861159a229b",
   "metadata": {},
   "outputs": [],
   "source": [
    "#user_input = \"Can you please tell me what reports have information about CPI? Then, can you generate insights from that report?\"\n",
    "user_input = \"How did you come to that conclusion?\"# Then, can you generate insights from that report?\"\n",
    "\n",
    "# The config is the **second positional argument** to stream() or invoke()!\n",
    "## it cannot be nested within the graph inputs \n",
    "events = graph.stream(\n",
    "    {\"messages\": [(\"user\", user_input)]}, config, stream_mode=\"values\"\n",
    ")\n",
    "\n",
    "for event in events:\n",
    "    event[\"messages\"][-1].pretty_print()"
   ]
  },
  {
   "cell_type": "code",
   "execution_count": 34,
   "id": "e2e6644f-1a07-45ce-851c-b2bd3b4abc49",
   "metadata": {},
   "outputs": [],
   "source": [
    "user_input = \"Ok great! thank you. Can you help me navigate to the CPI visual in that report?\"\n",
    "\n",
    "# The config is the **second positional argument** to stream() or invoke()!\n",
    "## it cannot be nested within the graph inputs \n",
    "events = graph.stream(\n",
    "    {\"messages\": [(\"user\", user_input)]}, config, stream_mode=\"values\"\n",
    ")\n",
    "\n",
    "for event in events:\n",
    "    event[\"messages\"][-1].pretty_print()"
   ]
  },
  {
   "cell_type": "code",
   "execution_count": 27,
   "id": "e89bdb1e-753b-4e14-ae5e-5c633eb224c5",
   "metadata": {},
   "outputs": [],
   "source": [
    "# now that we have added in persistence, we need t pick a thread to use as the key for the conversation\n",
    "config = {'configurable': {'thread_id':'2'}}\n",
    "\n",
    "def generate_response(user_input, config, graph):\n",
    "    # The config is the **second positional argument** to stream() or invoke()!\n",
    "    ## it cannot be nested within the graph inputs \n",
    "    final_state = graph.invoke(\n",
    "    {\"messages\": [(\"user\", user_input)]},\n",
    "    config={\"configurable\": {\"thread_id\": 42}}\n",
    "    )\n",
    "    \n",
    "    return(final_state[\"messages\"][-1].content)\n",
    "        \n",
    "generate_response(user_input = 'hi', config=config, graph=graph)"
   ]
  },
  {
   "cell_type": "code",
   "execution_count": 16,
   "id": "bc0c9af1-8575-4d3e-ba43-ba133170414a",
   "metadata": {},
   "outputs": [],
   "source": [
    "events = graph.stream(\n",
    "    {\"messages\": [(\"user\", user_input)]}, config, stream_mode=\"values\"\n",
    ")\n",
    "\n",
    "for event in events:\n",
    "    event[\"messages\"][-1].pretty_print()"
   ]
  },
  {
   "cell_type": "code",
   "execution_count": null,
   "id": "74385053-1659-41d4-8c86-548f82e66f0e",
   "metadata": {},
   "outputs": [],
   "source": [
    "final_state = graph.invoke(\n",
    "    {\"messages\": [(\"user\", user_input)]},\n",
    "    config={\"configurable\": {\"thread_id\": 42}}\n",
    ")\n",
    "final_state[\"messages\"][-1].content"
   ]
  },
  {
   "cell_type": "code",
   "execution_count": null,
   "id": "3c09d124-1d2a-4c4b-8d2d-41d9fd177145",
   "metadata": {},
   "outputs": [],
   "source": []
  },
  {
   "cell_type": "code",
   "execution_count": 16,
   "id": "6f822ffd-9464-4460-b847-1d0a4d1ecab4",
   "metadata": {},
   "outputs": [],
   "source": [
    "# data = pd.read_csv('data/file_location_update_test.csv')\n",
    "# data\n",
    "# data.loc[1] = [0, 'Primary Mortgage Market Survey', 'PDF/Primary Mortgage Market Survey.pdf', 'data/freddie_pmms.csv']\n",
    "# data.loc[2] = [0, 'Street Easy Rental Dashboard', 'PDF/Street Easy Rental Dashboard.pdf', 'data/rentalInventory.csv']\n",
    "# data = data.drop(columns=['Unnamed: 0'])\n",
    "# data.to_csv('data/file_location_update_test.csv')"
   ]
  },
  {
   "cell_type": "markdown",
   "id": "e0234229-0ed7-4340-86aa-b3cb5268d0aa",
   "metadata": {},
   "source": [
    "### ReportApp Assist - Q&A Example for Insight Generation"
   ]
  },
  {
   "cell_type": "code",
   "execution_count": 15,
   "id": "acbc97d5-0ecd-422c-ae04-6056a7feb1e6",
   "metadata": {},
   "outputs": [],
   "source": [
    "user_input = \"Hello! What insights can you generate across the Economic Indicators - Housing Market Report and the Primary Mortgage Market Survey Report?\"\n",
    "\n",
    "# The config is the **second positional argument** to stream() or invoke()!\n",
    "## it cannot be nested within the graph inputs \n",
    "events = graph.stream(\n",
    "    {\"messages\": [(\"user\", user_input)]}, config, stream_mode=\"values\"\n",
    ")\n",
    "\n",
    "for event in events:\n",
    "    event[\"messages\"][-1].pretty_print()"
   ]
  },
  {
   "cell_type": "markdown",
   "id": "df61c9c4-30bd-4a49-b976-6e011d40d305",
   "metadata": {},
   "source": [
    "### ReportApp Assist - Q&A Example for MetaData"
   ]
  },
  {
   "cell_type": "code",
   "execution_count": 16,
   "id": "c1525a04-96f4-4e2d-b5d2-dc23b8a2affc",
   "metadata": {},
   "outputs": [],
   "source": [
    "user_input = \"What reports contain information about CPI? If any, what data source is being used for that report?\"\n",
    "\n",
    "# The config is the **second positional argument** to stream() or invoke()!\n",
    "## it cannot be nested within the graph inputs \n",
    "events = graph.stream(\n",
    "    {\"messages\": [(\"user\", user_input)]}, config={\"configurable\": {\"thread_id\": 2}}, stream_mode=\"values\"\n",
    ")\n",
    "\n",
    "for event in events:\n",
    "    event[\"messages\"][-1].pretty_print()"
   ]
  },
  {
   "cell_type": "markdown",
   "id": "9ff4d38b-7e0f-41d0-a268-12e0900760c4",
   "metadata": {},
   "source": [
    "### ReportApp Assist - Q&A Example for Report Navigation"
   ]
  },
  {
   "cell_type": "code",
   "execution_count": null,
   "id": "bfb75d88-096e-4837-8a73-37964358cde6",
   "metadata": {},
   "outputs": [],
   "source": [
    "user_input = \"XYZ\"\n",
    "\n",
    "# The config is the **second positional argument** to stream() or invoke()!\n",
    "## it cannot be nested within the graph inputs \n",
    "events = graph.stream(\n",
    "    {\"messages\": [(\"user\", user_input)]}, config={\"configurable\": {\"thread_id\": 3}}, stream_mode=\"values\"\n",
    ")\n",
    "\n",
    "for event in events:\n",
    "    event[\"messages\"][-1].pretty_print()"
   ]
  }
 ],
 "metadata": {
  "availableInstances": [
   {
    "_defaultOrder": 0,
    "_isFastLaunch": true,
    "category": "General purpose",
    "gpuNum": 0,
    "hideHardwareSpecs": false,
    "memoryGiB": 4,
    "name": "ml.t3.medium",
    "vcpuNum": 2
   },
   {
    "_defaultOrder": 1,
    "_isFastLaunch": false,
    "category": "General purpose",
    "gpuNum": 0,
    "hideHardwareSpecs": false,
    "memoryGiB": 8,
    "name": "ml.t3.large",
    "vcpuNum": 2
   },
   {
    "_defaultOrder": 2,
    "_isFastLaunch": false,
    "category": "General purpose",
    "gpuNum": 0,
    "hideHardwareSpecs": false,
    "memoryGiB": 16,
    "name": "ml.t3.xlarge",
    "vcpuNum": 4
   },
   {
    "_defaultOrder": 3,
    "_isFastLaunch": false,
    "category": "General purpose",
    "gpuNum": 0,
    "hideHardwareSpecs": false,
    "memoryGiB": 32,
    "name": "ml.t3.2xlarge",
    "vcpuNum": 8
   },
   {
    "_defaultOrder": 4,
    "_isFastLaunch": true,
    "category": "General purpose",
    "gpuNum": 0,
    "hideHardwareSpecs": false,
    "memoryGiB": 8,
    "name": "ml.m5.large",
    "vcpuNum": 2
   },
   {
    "_defaultOrder": 5,
    "_isFastLaunch": false,
    "category": "General purpose",
    "gpuNum": 0,
    "hideHardwareSpecs": false,
    "memoryGiB": 16,
    "name": "ml.m5.xlarge",
    "vcpuNum": 4
   },
   {
    "_defaultOrder": 6,
    "_isFastLaunch": false,
    "category": "General purpose",
    "gpuNum": 0,
    "hideHardwareSpecs": false,
    "memoryGiB": 32,
    "name": "ml.m5.2xlarge",
    "vcpuNum": 8
   },
   {
    "_defaultOrder": 7,
    "_isFastLaunch": false,
    "category": "General purpose",
    "gpuNum": 0,
    "hideHardwareSpecs": false,
    "memoryGiB": 64,
    "name": "ml.m5.4xlarge",
    "vcpuNum": 16
   },
   {
    "_defaultOrder": 8,
    "_isFastLaunch": false,
    "category": "General purpose",
    "gpuNum": 0,
    "hideHardwareSpecs": false,
    "memoryGiB": 128,
    "name": "ml.m5.8xlarge",
    "vcpuNum": 32
   },
   {
    "_defaultOrder": 9,
    "_isFastLaunch": false,
    "category": "General purpose",
    "gpuNum": 0,
    "hideHardwareSpecs": false,
    "memoryGiB": 192,
    "name": "ml.m5.12xlarge",
    "vcpuNum": 48
   },
   {
    "_defaultOrder": 10,
    "_isFastLaunch": false,
    "category": "General purpose",
    "gpuNum": 0,
    "hideHardwareSpecs": false,
    "memoryGiB": 256,
    "name": "ml.m5.16xlarge",
    "vcpuNum": 64
   },
   {
    "_defaultOrder": 11,
    "_isFastLaunch": false,
    "category": "General purpose",
    "gpuNum": 0,
    "hideHardwareSpecs": false,
    "memoryGiB": 384,
    "name": "ml.m5.24xlarge",
    "vcpuNum": 96
   },
   {
    "_defaultOrder": 12,
    "_isFastLaunch": false,
    "category": "General purpose",
    "gpuNum": 0,
    "hideHardwareSpecs": false,
    "memoryGiB": 8,
    "name": "ml.m5d.large",
    "vcpuNum": 2
   },
   {
    "_defaultOrder": 13,
    "_isFastLaunch": false,
    "category": "General purpose",
    "gpuNum": 0,
    "hideHardwareSpecs": false,
    "memoryGiB": 16,
    "name": "ml.m5d.xlarge",
    "vcpuNum": 4
   },
   {
    "_defaultOrder": 14,
    "_isFastLaunch": false,
    "category": "General purpose",
    "gpuNum": 0,
    "hideHardwareSpecs": false,
    "memoryGiB": 32,
    "name": "ml.m5d.2xlarge",
    "vcpuNum": 8
   },
   {
    "_defaultOrder": 15,
    "_isFastLaunch": false,
    "category": "General purpose",
    "gpuNum": 0,
    "hideHardwareSpecs": false,
    "memoryGiB": 64,
    "name": "ml.m5d.4xlarge",
    "vcpuNum": 16
   },
   {
    "_defaultOrder": 16,
    "_isFastLaunch": false,
    "category": "General purpose",
    "gpuNum": 0,
    "hideHardwareSpecs": false,
    "memoryGiB": 128,
    "name": "ml.m5d.8xlarge",
    "vcpuNum": 32
   },
   {
    "_defaultOrder": 17,
    "_isFastLaunch": false,
    "category": "General purpose",
    "gpuNum": 0,
    "hideHardwareSpecs": false,
    "memoryGiB": 192,
    "name": "ml.m5d.12xlarge",
    "vcpuNum": 48
   },
   {
    "_defaultOrder": 18,
    "_isFastLaunch": false,
    "category": "General purpose",
    "gpuNum": 0,
    "hideHardwareSpecs": false,
    "memoryGiB": 256,
    "name": "ml.m5d.16xlarge",
    "vcpuNum": 64
   },
   {
    "_defaultOrder": 19,
    "_isFastLaunch": false,
    "category": "General purpose",
    "gpuNum": 0,
    "hideHardwareSpecs": false,
    "memoryGiB": 384,
    "name": "ml.m5d.24xlarge",
    "vcpuNum": 96
   },
   {
    "_defaultOrder": 20,
    "_isFastLaunch": false,
    "category": "General purpose",
    "gpuNum": 0,
    "hideHardwareSpecs": true,
    "memoryGiB": 0,
    "name": "ml.geospatial.interactive",
    "supportedImageNames": [
     "sagemaker-geospatial-v1-0"
    ],
    "vcpuNum": 0
   },
   {
    "_defaultOrder": 21,
    "_isFastLaunch": true,
    "category": "Compute optimized",
    "gpuNum": 0,
    "hideHardwareSpecs": false,
    "memoryGiB": 4,
    "name": "ml.c5.large",
    "vcpuNum": 2
   },
   {
    "_defaultOrder": 22,
    "_isFastLaunch": false,
    "category": "Compute optimized",
    "gpuNum": 0,
    "hideHardwareSpecs": false,
    "memoryGiB": 8,
    "name": "ml.c5.xlarge",
    "vcpuNum": 4
   },
   {
    "_defaultOrder": 23,
    "_isFastLaunch": false,
    "category": "Compute optimized",
    "gpuNum": 0,
    "hideHardwareSpecs": false,
    "memoryGiB": 16,
    "name": "ml.c5.2xlarge",
    "vcpuNum": 8
   },
   {
    "_defaultOrder": 24,
    "_isFastLaunch": false,
    "category": "Compute optimized",
    "gpuNum": 0,
    "hideHardwareSpecs": false,
    "memoryGiB": 32,
    "name": "ml.c5.4xlarge",
    "vcpuNum": 16
   },
   {
    "_defaultOrder": 25,
    "_isFastLaunch": false,
    "category": "Compute optimized",
    "gpuNum": 0,
    "hideHardwareSpecs": false,
    "memoryGiB": 72,
    "name": "ml.c5.9xlarge",
    "vcpuNum": 36
   },
   {
    "_defaultOrder": 26,
    "_isFastLaunch": false,
    "category": "Compute optimized",
    "gpuNum": 0,
    "hideHardwareSpecs": false,
    "memoryGiB": 96,
    "name": "ml.c5.12xlarge",
    "vcpuNum": 48
   },
   {
    "_defaultOrder": 27,
    "_isFastLaunch": false,
    "category": "Compute optimized",
    "gpuNum": 0,
    "hideHardwareSpecs": false,
    "memoryGiB": 144,
    "name": "ml.c5.18xlarge",
    "vcpuNum": 72
   },
   {
    "_defaultOrder": 28,
    "_isFastLaunch": false,
    "category": "Compute optimized",
    "gpuNum": 0,
    "hideHardwareSpecs": false,
    "memoryGiB": 192,
    "name": "ml.c5.24xlarge",
    "vcpuNum": 96
   },
   {
    "_defaultOrder": 29,
    "_isFastLaunch": true,
    "category": "Accelerated computing",
    "gpuNum": 1,
    "hideHardwareSpecs": false,
    "memoryGiB": 16,
    "name": "ml.g4dn.xlarge",
    "vcpuNum": 4
   },
   {
    "_defaultOrder": 30,
    "_isFastLaunch": false,
    "category": "Accelerated computing",
    "gpuNum": 1,
    "hideHardwareSpecs": false,
    "memoryGiB": 32,
    "name": "ml.g4dn.2xlarge",
    "vcpuNum": 8
   },
   {
    "_defaultOrder": 31,
    "_isFastLaunch": false,
    "category": "Accelerated computing",
    "gpuNum": 1,
    "hideHardwareSpecs": false,
    "memoryGiB": 64,
    "name": "ml.g4dn.4xlarge",
    "vcpuNum": 16
   },
   {
    "_defaultOrder": 32,
    "_isFastLaunch": false,
    "category": "Accelerated computing",
    "gpuNum": 1,
    "hideHardwareSpecs": false,
    "memoryGiB": 128,
    "name": "ml.g4dn.8xlarge",
    "vcpuNum": 32
   },
   {
    "_defaultOrder": 33,
    "_isFastLaunch": false,
    "category": "Accelerated computing",
    "gpuNum": 4,
    "hideHardwareSpecs": false,
    "memoryGiB": 192,
    "name": "ml.g4dn.12xlarge",
    "vcpuNum": 48
   },
   {
    "_defaultOrder": 34,
    "_isFastLaunch": false,
    "category": "Accelerated computing",
    "gpuNum": 1,
    "hideHardwareSpecs": false,
    "memoryGiB": 256,
    "name": "ml.g4dn.16xlarge",
    "vcpuNum": 64
   },
   {
    "_defaultOrder": 35,
    "_isFastLaunch": false,
    "category": "Accelerated computing",
    "gpuNum": 1,
    "hideHardwareSpecs": false,
    "memoryGiB": 61,
    "name": "ml.p3.2xlarge",
    "vcpuNum": 8
   },
   {
    "_defaultOrder": 36,
    "_isFastLaunch": false,
    "category": "Accelerated computing",
    "gpuNum": 4,
    "hideHardwareSpecs": false,
    "memoryGiB": 244,
    "name": "ml.p3.8xlarge",
    "vcpuNum": 32
   },
   {
    "_defaultOrder": 37,
    "_isFastLaunch": false,
    "category": "Accelerated computing",
    "gpuNum": 8,
    "hideHardwareSpecs": false,
    "memoryGiB": 488,
    "name": "ml.p3.16xlarge",
    "vcpuNum": 64
   },
   {
    "_defaultOrder": 38,
    "_isFastLaunch": false,
    "category": "Accelerated computing",
    "gpuNum": 8,
    "hideHardwareSpecs": false,
    "memoryGiB": 768,
    "name": "ml.p3dn.24xlarge",
    "vcpuNum": 96
   },
   {
    "_defaultOrder": 39,
    "_isFastLaunch": false,
    "category": "Memory Optimized",
    "gpuNum": 0,
    "hideHardwareSpecs": false,
    "memoryGiB": 16,
    "name": "ml.r5.large",
    "vcpuNum": 2
   },
   {
    "_defaultOrder": 40,
    "_isFastLaunch": false,
    "category": "Memory Optimized",
    "gpuNum": 0,
    "hideHardwareSpecs": false,
    "memoryGiB": 32,
    "name": "ml.r5.xlarge",
    "vcpuNum": 4
   },
   {
    "_defaultOrder": 41,
    "_isFastLaunch": false,
    "category": "Memory Optimized",
    "gpuNum": 0,
    "hideHardwareSpecs": false,
    "memoryGiB": 64,
    "name": "ml.r5.2xlarge",
    "vcpuNum": 8
   },
   {
    "_defaultOrder": 42,
    "_isFastLaunch": false,
    "category": "Memory Optimized",
    "gpuNum": 0,
    "hideHardwareSpecs": false,
    "memoryGiB": 128,
    "name": "ml.r5.4xlarge",
    "vcpuNum": 16
   },
   {
    "_defaultOrder": 43,
    "_isFastLaunch": false,
    "category": "Memory Optimized",
    "gpuNum": 0,
    "hideHardwareSpecs": false,
    "memoryGiB": 256,
    "name": "ml.r5.8xlarge",
    "vcpuNum": 32
   },
   {
    "_defaultOrder": 44,
    "_isFastLaunch": false,
    "category": "Memory Optimized",
    "gpuNum": 0,
    "hideHardwareSpecs": false,
    "memoryGiB": 384,
    "name": "ml.r5.12xlarge",
    "vcpuNum": 48
   },
   {
    "_defaultOrder": 45,
    "_isFastLaunch": false,
    "category": "Memory Optimized",
    "gpuNum": 0,
    "hideHardwareSpecs": false,
    "memoryGiB": 512,
    "name": "ml.r5.16xlarge",
    "vcpuNum": 64
   },
   {
    "_defaultOrder": 46,
    "_isFastLaunch": false,
    "category": "Memory Optimized",
    "gpuNum": 0,
    "hideHardwareSpecs": false,
    "memoryGiB": 768,
    "name": "ml.r5.24xlarge",
    "vcpuNum": 96
   },
   {
    "_defaultOrder": 47,
    "_isFastLaunch": false,
    "category": "Accelerated computing",
    "gpuNum": 1,
    "hideHardwareSpecs": false,
    "memoryGiB": 16,
    "name": "ml.g5.xlarge",
    "vcpuNum": 4
   },
   {
    "_defaultOrder": 48,
    "_isFastLaunch": false,
    "category": "Accelerated computing",
    "gpuNum": 1,
    "hideHardwareSpecs": false,
    "memoryGiB": 32,
    "name": "ml.g5.2xlarge",
    "vcpuNum": 8
   },
   {
    "_defaultOrder": 49,
    "_isFastLaunch": false,
    "category": "Accelerated computing",
    "gpuNum": 1,
    "hideHardwareSpecs": false,
    "memoryGiB": 64,
    "name": "ml.g5.4xlarge",
    "vcpuNum": 16
   },
   {
    "_defaultOrder": 50,
    "_isFastLaunch": false,
    "category": "Accelerated computing",
    "gpuNum": 1,
    "hideHardwareSpecs": false,
    "memoryGiB": 128,
    "name": "ml.g5.8xlarge",
    "vcpuNum": 32
   },
   {
    "_defaultOrder": 51,
    "_isFastLaunch": false,
    "category": "Accelerated computing",
    "gpuNum": 1,
    "hideHardwareSpecs": false,
    "memoryGiB": 256,
    "name": "ml.g5.16xlarge",
    "vcpuNum": 64
   },
   {
    "_defaultOrder": 52,
    "_isFastLaunch": false,
    "category": "Accelerated computing",
    "gpuNum": 4,
    "hideHardwareSpecs": false,
    "memoryGiB": 192,
    "name": "ml.g5.12xlarge",
    "vcpuNum": 48
   },
   {
    "_defaultOrder": 53,
    "_isFastLaunch": false,
    "category": "Accelerated computing",
    "gpuNum": 4,
    "hideHardwareSpecs": false,
    "memoryGiB": 384,
    "name": "ml.g5.24xlarge",
    "vcpuNum": 96
   },
   {
    "_defaultOrder": 54,
    "_isFastLaunch": false,
    "category": "Accelerated computing",
    "gpuNum": 8,
    "hideHardwareSpecs": false,
    "memoryGiB": 768,
    "name": "ml.g5.48xlarge",
    "vcpuNum": 192
   },
   {
    "_defaultOrder": 55,
    "_isFastLaunch": false,
    "category": "Accelerated computing",
    "gpuNum": 8,
    "hideHardwareSpecs": false,
    "memoryGiB": 1152,
    "name": "ml.p4d.24xlarge",
    "vcpuNum": 96
   },
   {
    "_defaultOrder": 56,
    "_isFastLaunch": false,
    "category": "Accelerated computing",
    "gpuNum": 8,
    "hideHardwareSpecs": false,
    "memoryGiB": 1152,
    "name": "ml.p4de.24xlarge",
    "vcpuNum": 96
   },
   {
    "_defaultOrder": 57,
    "_isFastLaunch": false,
    "category": "Accelerated computing",
    "gpuNum": 0,
    "hideHardwareSpecs": false,
    "memoryGiB": 32,
    "name": "ml.trn1.2xlarge",
    "vcpuNum": 8
   },
   {
    "_defaultOrder": 58,
    "_isFastLaunch": false,
    "category": "Accelerated computing",
    "gpuNum": 0,
    "hideHardwareSpecs": false,
    "memoryGiB": 512,
    "name": "ml.trn1.32xlarge",
    "vcpuNum": 128
   },
   {
    "_defaultOrder": 59,
    "_isFastLaunch": false,
    "category": "Accelerated computing",
    "gpuNum": 0,
    "hideHardwareSpecs": false,
    "memoryGiB": 512,
    "name": "ml.trn1n.32xlarge",
    "vcpuNum": 128
   }
  ],
  "instance_type": "ml.t3.medium",
  "kernelspec": {
   "display_name": "Python 3 (Data Science 3.0)",
   "language": "python",
   "name": "python3__SAGEMAKER_INTERNAL__arn:aws:sagemaker:us-east-1:081325390199:image/sagemaker-data-science-310-v1"
  },
  "language_info": {
   "codemirror_mode": {
    "name": "ipython",
    "version": 3
   },
   "file_extension": ".py",
   "mimetype": "text/x-python",
   "name": "python",
   "nbconvert_exporter": "python",
   "pygments_lexer": "ipython3",
   "version": "3.10.6"
  }
 },
 "nbformat": 4,
 "nbformat_minor": 5
}
